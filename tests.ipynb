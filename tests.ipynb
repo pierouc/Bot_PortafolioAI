{
 "cells": [
  {
   "cell_type": "markdown",
   "id": "20a64bc9",
   "metadata": {},
   "source": [
    "required packages:\n",
    "- ollama (external)\n",
    "- langchain \n",
    "- langchain-community \n",
    "- langgraph\n",
    "- yfinance\n",
    "- faiss-cpu"
   ]
  },
  {
   "cell_type": "code",
   "execution_count": 18,
   "id": "a97db830",
   "metadata": {},
   "outputs": [],
   "source": [
    "a=    {'Equity Tech Fund': 15.0, 'Green Energy ETF': 10.0, 'Health Bio Stocks': 10.0, 'Global Bonds Fund': 15.0, 'CryptoIndex': 10.0, 'Real Estate REIT': 15.0, 'Emerging Markets Fund': 10.0, 'AI & Robotics ETF': 5.0, 'Commodities Basket': 5.0, 'Cash Reserve': 5.0}"
   ]
  },
  {
   "cell_type": "code",
   "execution_count": 19,
   "id": "38c1154a",
   "metadata": {},
   "outputs": [
    {
     "data": {
      "text/plain": [
       "100.0"
      ]
     },
     "execution_count": 19,
     "metadata": {},
     "output_type": "execute_result"
    }
   ],
   "source": [
    "sum(a.values())"
   ]
  },
  {
   "cell_type": "code",
   "execution_count": 27,
   "id": "0e43daa4",
   "metadata": {},
   "outputs": [
    {
     "data": {
      "text/plain": [
       "100.0"
      ]
     },
     "execution_count": 27,
     "metadata": {},
     "output_type": "execute_result"
    }
   ],
   "source": [
    "a.values()  # returns a view object that displays a list of all the values in the dictionary\n",
    "sum(a.values())  # returns the sum of all the values in the dictionary"
   ]
  },
  {
   "cell_type": "code",
   "execution_count": 37,
   "id": "716410fd",
   "metadata": {},
   "outputs": [],
   "source": [
    "from langchain.agents import AgentType, initialize_agent\n",
    "from langchain_community.tools.yahoo_finance_news import YahooFinanceNewsTool\n",
    "from langchain.llms import Ollama\n",
    "from langchain_community.embeddings import OllamaEmbeddings\n",
    "from langchain.vectorstores import FAISS\n",
    "from langchain.text_splitter import RecursiveCharacterTextSplitter\n",
    "from langchain.docstore.document import Document\n",
    "import os\n",
    "from uuid import uuid4"
   ]
  },
  {
   "cell_type": "markdown",
   "id": "e6a36f9f",
   "metadata": {},
   "source": [
    "# Funciones por separado"
   ]
  },
  {
   "cell_type": "markdown",
   "id": "a0e3b41a",
   "metadata": {},
   "source": [
    "## YahooFinanceNewsTool"
   ]
  },
  {
   "cell_type": "code",
   "execution_count": 2,
   "id": "b6b53a62",
   "metadata": {},
   "outputs": [
    {
     "name": "stderr",
     "output_type": "stream",
     "text": [
      "USER_AGENT environment variable not set, consider setting it to identify your requests.\n",
      "C:\\Users\\piery\\AppData\\Local\\Temp\\ipykernel_46320\\1286122019.py:4: LangChainDeprecationWarning: The class `Ollama` was deprecated in LangChain 0.3.1 and will be removed in 1.0.0. An updated version of the class exists in the :class:`~langchain-ollama package and should be used instead. To use it run `pip install -U :class:`~langchain-ollama` and import as `from :class:`~langchain_ollama import OllamaLLM``.\n",
      "  llm = Ollama(model='mistral')\n",
      "C:\\Users\\piery\\AppData\\Local\\Temp\\ipykernel_46320\\1286122019.py:6: LangChainDeprecationWarning: LangChain agents will continue to be supported, but it is recommended for new use cases to be built with LangGraph. LangGraph offers a more flexible and full-featured framework for building agents, including support for tool-calling, persistence of state, and human-in-the-loop workflows. For details, refer to the `LangGraph documentation <https://langchain-ai.github.io/langgraph/>`_ as well as guides for `Migrating from AgentExecutor <https://python.langchain.com/docs/how_to/migrate_agent/>`_ and LangGraph's `Pre-built ReAct agent <https://langchain-ai.github.io/langgraph/how-tos/create-react-agent/>`_.\n",
      "  agent_chain = initialize_agent(\n"
     ]
    }
   ],
   "source": [
    "from langchain.agents import AgentType, initialize_agent\n",
    "from langchain_community.tools.yahoo_finance_news import YahooFinanceNewsTool\n",
    "from langchain.llms import Ollama\n",
    "llm = Ollama(model='mistral')\n",
    "tools = [YahooFinanceNewsTool()]\n",
    "agent_chain = initialize_agent(\n",
    "    tools,\n",
    "    llm,\n",
    "    agent=AgentType.ZERO_SHOT_REACT_DESCRIPTION,\n",
    "    verbose=True,\n",
    ")"
   ]
  },
  {
   "cell_type": "code",
   "execution_count": 13,
   "id": "12d410e2",
   "metadata": {},
   "outputs": [
    {
     "name": "stdout",
     "output_type": "stream",
     "text": [
      "\n",
      "\n",
      "\u001b[1m> Entering new AgentExecutor chain...\u001b[0m\n",
      "\u001b[32;1m\u001b[1;3m I need to find news about Bitcoin (BTC). To do this, I will use yahoo_finance_news.\n",
      "\n",
      "Action: yahoo_finance_news\n",
      "Action Input: BTC\u001b[0m\n",
      "Observation: \u001b[36;1m\u001b[1;3mTap Into the Burgeoning Bitcoin Economy with Fold Holdings – Initiation Report\n",
      "By Rayk Riechmann From banks to hedge funds to mom-and-pop investors, the Bitcoin (BTC) boom has garnered support from virtually every direction, with President Donald Trump this week vowing to create a strategic crypto reserve for the U.S. government. What if investors could bet on growth across the new Bitcoin economy while also getting direct […]\n",
      "\n",
      "The Case for Accepting MicroStrategy’s (MSTR) Billion Dollar Bitcoin Gamble\n",
      "The insatiable Bitcoin-buyer MicroStrategy (MSTR) has seen an impressive rise of over 600% in the past year—a performance roughly 4.5 times greater than Bitcoin’s (BTC) own gains over the same period. However, the rally has faced some headwinds since the end of last year, as MicroStrategy’s stock has struggled to reach new all-time highs—not necessarily due to cryptocurrency price swings but likely because of skepticism over massive equity dilution. As I’m cautiously bullish on MicroStrategy, gi\u001b[0m\n",
      "Thought:\u001b[32;1m\u001b[1;3m From the observations, it seems that Bitcoin (BTC) has had some significant developments today. Firstly, President Trump has vowed to create a strategic crypto reserve for the U.S. government. Secondly, there's a company called MicroStrategy (MSTR), which has seen an impressive rise of over 600% in the past year, primarily due to its investments in Bitcoin. However, the stock has struggled to reach new all-time highs recently, possibly due to skepticism over massive equity dilution.\n",
      "\n",
      "Final Answer: Today's developments with BTC include President Trump planning a strategic crypto reserve for the U.S., and the company MicroStrategy (MSTR) experiencing significant gains in the past year from its Bitcoin investments but facing challenges due to equity dilution concerns.\u001b[0m\n",
      "\n",
      "\u001b[1m> Finished chain.\u001b[0m\n"
     ]
    },
    {
     "data": {
      "text/plain": [
       "{'input': 'What happened today with btc?',\n",
       " 'output': \"Today's developments with BTC include President Trump planning a strategic crypto reserve for the U.S., and the company MicroStrategy (MSTR) experiencing significant gains in the past year from its Bitcoin investments but facing challenges due to equity dilution concerns.\"}"
      ]
     },
     "execution_count": 13,
     "metadata": {},
     "output_type": "execute_result"
    }
   ],
   "source": [
    "agent_chain.invoke(\n",
    "    \"What happened today with btc?\",\n",
    ")"
   ]
  },
  {
   "cell_type": "markdown",
   "id": "f31c7053",
   "metadata": {},
   "source": []
  },
  {
   "cell_type": "markdown",
   "id": "11f0ad11",
   "metadata": {},
   "source": [
    "## FAISS"
   ]
  },
  {
   "cell_type": "code",
   "execution_count": null,
   "id": "90b3a1dc",
   "metadata": {},
   "outputs": [
    {
     "name": "stderr",
     "output_type": "stream",
     "text": [
      "C:\\Users\\piery\\AppData\\Local\\Temp\\ipykernel_48904\\1192078869.py:16: LangChainDeprecationWarning: The class `OllamaEmbeddings` was deprecated in LangChain 0.3.1 and will be removed in 1.0.0. An updated version of the class exists in the :class:`~langchain-ollama package and should be used instead. To use it run `pip install -U :class:`~langchain-ollama` and import as `from :class:`~langchain_ollama import OllamaEmbeddings``.\n",
      "  embedding_model = OllamaEmbeddings(model=\"nomic-embed-text\")\n"
     ]
    }
   ],
   "source": [
    "from langchain_community.tools.yahoo_finance_news import YahooFinanceNewsTool\n",
    "from langchain_community.embeddings import OllamaEmbeddings\n",
    "from langchain.vectorstores import FAISS\n",
    "from langchain.text_splitter import RecursiveCharacterTextSplitter\n",
    "from langchain.docstore.document import Document\n",
    "\n",
    "# Paso 1: Obtener noticias con la herramienta de LangChain\n",
    "news_tool = YahooFinanceNewsTool()\n",
    "noticias = news_tool.run(\"TSLA\")  # También podrías usar 'AAPL', 'AMZN', etc.\n",
    "\n",
    "# Paso 2: Separar en chunks si es necesario\n",
    "splitter = RecursiveCharacterTextSplitter(chunk_size=300, chunk_overlap=40)\n",
    "documentos = splitter.create_documents([noticias])\n",
    "\n",
    "# Paso 3: Crear embeddings con Ollama (modelo local)\n",
    "embedding_model = OllamaEmbeddings(model=\"nomic-embed-text\")\n",
    "\n",
    "# Paso 4: Guardar en base de datos FAISS (CPU)\n",
    "vectorstore = FAISS.from_documents(documentos, embedding_model)\n",
    "\n",
    "# Paso 5: Guardar en disco\n",
    "vectorstore.save_local(\"faiss_news_tsla\")"
   ]
  },
  {
   "cell_type": "code",
   "execution_count": 29,
   "id": "98c305fb",
   "metadata": {},
   "outputs": [
    {
     "name": "stdout",
     "output_type": "stream",
     "text": [
      "[Document(metadata={}, page_content='Tesla, Inc. (TSLA): Seen as an ‘Embodied AI Secular Winner’'), Document(metadata={}, page_content='We recently published a list of 10 AI Stocks to Watch Amid Market Volatility. In this article, we are going to take a look at where Tesla, Inc. (NASDAQ:TSLA) stands against other AI stocks to watch amid market volatility. The uncertain macroeconomic environment is diminishing investors’ readiness'), Document(metadata={}, page_content='is diminishing investors’ readiness to pay high prices for stocks related to […]'), Document(metadata={}, page_content=\"Elon Musk, Jack Dorsey Call For Abolition Of All Intellectual Property Laws, Arguing There Are 'Much Greater Models To Pay Creators'\"), Document(metadata={}, page_content='Elon Musk, CEO of Tesla Inc. (NASDAQ:TSLA), and Jack Dorsey, co-founder of Twitter (currently X) as well as Square, now called Block Inc. (NYSE:XYZ), have ignited a debate over intellectual property rights. The tech magnates have suggested a complete eradication of IP laws, a move that has stirred'), Document(metadata={}, page_content='of IP laws, a move that has stirred controversy in the tech industry. What Happened: Dorsey initiated the discussion with a post on X stating, “delete all IP law.” Musk, who now owns X (formerly Twitter), promptly agreed with Dorsey’s se')]\n"
     ]
    }
   ],
   "source": [
    "print(documentos)"
   ]
  },
  {
   "cell_type": "code",
   "execution_count": null,
   "id": "62eadb81",
   "metadata": {},
   "outputs": [
    {
     "name": "stdout",
     "output_type": "stream",
     "text": [
      "🔍 Resultado 1:\n",
      "Tesla, Inc. (TSLA): Seen as an ‘Embodied AI Secular Winner’\n",
      "\n",
      "🔍 Resultado 2:\n",
      "We recently published a list of 10 AI Stocks to Watch Amid Market Volatility. In this article, we are going to take a look at where Tesla, Inc. (NASDAQ:TSLA) stands against other AI stocks to watch amid market volatility. The uncertain macroeconomic environment is diminishing investors’ readiness\n",
      "\n",
      "🔍 Resultado 3:\n",
      "Elon Musk, Jack Dorsey Call For Abolition Of All Intellectual Property Laws, Arguing There Are 'Much Greater Models To Pay Creators'\n",
      "\n",
      "🔍 Resultado 4:\n",
      "Elon Musk, CEO of Tesla Inc. (NASDAQ:TSLA), and Jack Dorsey, co-founder of Twitter (currently X) as well as Square, now called Block Inc. (NYSE:XYZ), have ignited a debate over intellectual property rights. The tech magnates have suggested a complete eradication of IP laws, a move that has stirred\n",
      "\n"
     ]
    }
   ],
   "source": [
    "# Cargar el índice desde disco\n",
    "vectorstore = FAISS.load_local(\"./faiss_news_tsla/\", embedding_model,allow_dangerous_deserialization=True)\n",
    "\n",
    "# Hacer una búsqueda semántica\n",
    "query = \"¿Qué dice la prensa sobre Tesla y la energía solar?\"\n",
    "resultados = vectorstore.similarity_search(query, k=4)\n",
    "\n",
    "# Mostrar los resultados\n",
    "for i, r in enumerate(resultados, 1):\n",
    "    print(f\"🔍 Resultado {i}:\\n{r.page_content}\\n\")"
   ]
  },
  {
   "cell_type": "markdown",
   "id": "06769109",
   "metadata": {},
   "source": [
    "## buscar noticias e indexar"
   ]
  },
  {
   "cell_type": "markdown",
   "id": "7b34cd16",
   "metadata": {},
   "source": [
    "experimental"
   ]
  },
  {
   "cell_type": "code",
   "execution_count": null,
   "id": "39cb49f3",
   "metadata": {},
   "outputs": [],
   "source": [
    "from langchain_community.tools.yahoo_finance_news import YahooFinanceNewsTool\n",
    "from langchain_core.documents import Document\n",
    "\n",
    "class CustomYahooFinanceNewsTool(YahooFinanceNewsTool):\n",
    "    @staticmethod\n",
    "    def _format_results(docs, query: str) -> str:\n",
    "        # Personalizar el formato de los resultados para incluir más metadatos\n",
    "        doc_strings = [{\n",
    "            \n",
    "                \"Title\": {doc.metadata['title']},\n",
    "                \"Description\": {doc.metadata.get('description', '')},\n",
    "                \"URL\": {doc.metadata.get('source', 'No URL available')}\n",
    "        }\n",
    "            \n",
    "            for doc in docs\n",
    "            if query in doc.metadata.get(\"description\", \"\") or query in doc.metadata[\"title\"]\n",
    "        ]\n",
    "        return doc_strings\n"
   ]
  },
  {
   "cell_type": "markdown",
   "id": "c9d0bf93",
   "metadata": {},
   "source": [
    "real code"
   ]
  },
  {
   "cell_type": "code",
   "execution_count": 40,
   "id": "54cb992b",
   "metadata": {},
   "outputs": [],
   "source": [
    "def actualizar_faiss_con_noticias(simbolo: str, \n",
    "                                   path_indice: str = \"./faiss_news_index/\", \n",
    "                                   modelo_ollama: str = \"nomic-embed-text\",\n",
    "                                   chequear_duplicados: bool = True) -> None:\n",
    "    import hashlib\n",
    "\n",
    "    def hash_text(text: str) -> str:\n",
    "        return hashlib.md5(text.encode('utf-8')).hexdigest()\n",
    "\n",
    "    print(f\"Obteniendo noticias para: {simbolo}\")\n",
    "    embedding_model = OllamaEmbeddings(model=modelo_ollama)\n",
    "    splitter = RecursiveCharacterTextSplitter(chunk_size=300, chunk_overlap=40)\n",
    "    news_tool = YahooFinanceNewsTool()\n",
    "    \n",
    "    # 1. Obtener noticias\n",
    "    try:\n",
    "        noticias = news_tool.run(simbolo)\n",
    "    except:\n",
    "        print(\"Error al obtener noticias. Verifica el símbolo o la conexión a internet.\")\n",
    "        return\n",
    "\n",
    "    if not noticias or \"no news found\" in noticias.lower():\n",
    "        print(\"No se encontraron noticias relevantes.\")\n",
    "        return\n",
    "\n",
    "    # 2. Separar en documentos y filtrar vacíos\n",
    "    documentos_nuevos = splitter.create_documents([noticias])\n",
    "    documentos_nuevos = [doc for doc in documentos_nuevos if doc.page_content.strip() != \"\"]\n",
    "    \n",
    "    if not documentos_nuevos:\n",
    "        print(\"No hay contenido útil para indexar.\")\n",
    "        return\n",
    "\n",
    "    contenido_existente = set()\n",
    "\n",
    "    # 3. Cargar índice existente si existe\n",
    "    if os.path.exists(path_indice):\n",
    "        print(\"Cargando índice existente...\")\n",
    "        vectorstore = FAISS.load_local(path_indice, embedding_model, allow_dangerous_deserialization=True)\n",
    "        if chequear_duplicados:\n",
    "            documentos_existentes = vectorstore.docstore._dict.values()\n",
    "            contenido_existente = set(hash_text(doc.page_content) for doc in documentos_existentes)\n",
    "    else:\n",
    "        print(\"Creando nuevo índice FAISS...\")\n",
    "        vectorstore = FAISS.from_documents(documentos_nuevos, embedding_model)\n",
    "\n",
    "    # 4. Filtrar duplicados (si corresponde)\n",
    "    if chequear_duplicados:\n",
    "        documentos_para_agregar = [doc for doc in documentos_nuevos if hash_text(doc.page_content) not in contenido_existente]\n",
    "    else:\n",
    "        documentos_para_agregar = documentos_nuevos\n",
    "\n",
    "    if not documentos_para_agregar:\n",
    "        print(\"Las noticias ya estaban indexadas. No se agregaron documentos nuevos.\")\n",
    "        return\n",
    "\n",
    "    # 5. Generar embeddings y agregar\n",
    "    new_embeddings = embedding_model.embed_documents([doc.page_content for doc in documentos_para_agregar])\n",
    "    ids = [str(uuid4()) for _ in documentos_para_agregar]\n",
    "\n",
    "    vectorstore.add_documents(documents=documentos_para_agregar, ids=ids)\n",
    "\n",
    "    # 6. Guardar cambios\n",
    "    vectorstore.save_local(path_indice)\n",
    "    print(f\"Índice actualizado con {len(documentos_para_agregar)} nuevas noticias de {simbolo}.\")\n"
   ]
  },
  {
   "cell_type": "code",
   "execution_count": 124,
   "id": "c0554bf3",
   "metadata": {},
   "outputs": [
    {
     "name": "stdout",
     "output_type": "stream",
     "text": [
      "Obteniendo noticias para: TSLA\n",
      "Creando nuevo índice FAISS...\n",
      "Índice creado.\n"
     ]
    }
   ],
   "source": [
    "actualizar_faiss_con_noticias(\"TSLA\", path_indice=\"./faiss_news_index/\")"
   ]
  },
  {
   "cell_type": "code",
   "execution_count": null,
   "id": "0d25266c",
   "metadata": {},
   "outputs": [
    {
     "name": "stdout",
     "output_type": "stream",
     "text": [
      "🔍 Resultado 1:\n",
      "URL: https://finance.yahoo.com/news/tesla-inc-tsla-seen-embodied-185057311.html)\n",
      "\n",
      "🔍 Resultado 2:\n",
      "Title: Tesla, Inc. (TSLA): Seen as an ‘Embodied AI Secular Winner’)\n",
      "\n",
      "🔍 Resultado 3:\n",
      "Description: We recently published a list of 10 AI Stocks to Watch Amid Market Volatility. In this article, we are going to take a look at where Tesla, Inc. (NASDAQ:TSLA) stands against other AI stocks to watch amid market volatility. The uncertain macroeconomic environment is diminishing)\n",
      "\n",
      "🔍 Resultado 4:\n",
      "environment is diminishing investors’ readiness to pay high prices for stocks related to […])\n",
      "\n"
     ]
    }
   ],
   "source": [
    "vectorstore = FAISS.load_local(\"./faiss_news_index/\", embedding_model, allow_dangerous_deserialization=True)\n",
    "\n",
    "query = \"¿Qué dice la prensa sobre Tesla y la energía solar?\"\n",
    "resultados = vectorstore.similarity_search(query, k=20)\n",
    "# Mostrar los resultados\n",
    "for i, r in enumerate(resultados, 1):\n",
    "    print(f\"🔍 Resultado {i}:\\n{r.page_content})\\n\")\n"
   ]
  },
  {
   "cell_type": "markdown",
   "id": "20085ce4",
   "metadata": {},
   "source": [
    "## responder_preguntas "
   ]
  },
  {
   "cell_type": "code",
   "execution_count": 43,
   "id": "bf1a631d",
   "metadata": {},
   "outputs": [],
   "source": [
    "from langchain.chains import RetrievalQA\n",
    "from langchain_community.llms import Ollama\n",
    "from langchain.vectorstores import FAISS\n",
    "from langchain_community.embeddings import OllamaEmbeddings\n",
    "\n",
    "def crear_chain_de_preguntas_mistral(path_indice=\"./faiss_news_index/\") -> RetrievalQA:\n",
    "    \"\"\"\n",
    "    Crea una cadena de preguntas-respuestas usando un índice FAISS y Mistral 7B local.\n",
    "    \n",
    "    Args:\n",
    "        path_indice (str): Ruta al índice FAISS.\n",
    "    \n",
    "    Returns:\n",
    "        RetrievalQA: Cadena lista para responder preguntas.\n",
    "    \"\"\"\n",
    "    print(\"Cargando modelo Mistral y vectorstore...\")\n",
    "    embeddings = OllamaEmbeddings(model=\"nomic-embed-text\")\n",
    "    llm = Ollama(model=\"mistral\")  # o \"mistral:instruct\" si tienes ese tag cargado\n",
    "\n",
    "    vectorstore = FAISS.load_local(path_indice, embeddings, allow_dangerous_deserialization=True)\n",
    "    retriever = vectorstore.as_retriever(search_type=\"similarity\", search_kwargs={\"k\": 5})\n",
    "\n",
    "    chain = RetrievalQA.from_chain_type(\n",
    "        llm=llm,\n",
    "        retriever=retriever,\n",
    "        return_source_documents=True\n",
    "    )\n",
    "\n",
    "    return chain\n"
   ]
  },
  {
   "cell_type": "code",
   "execution_count": 45,
   "id": "a65b8b36",
   "metadata": {},
   "outputs": [
    {
     "name": "stdout",
     "output_type": "stream",
     "text": [
      "Cargando modelo Mistral y vectorstore...\n",
      "\n",
      "📢 Respuesta:  Based on the current market trends and news, I would recommend three stocks with a positive outlook:\n",
      "\n",
      "1. NVIDIA Corporation (NVDA) - According to recent reports, this tech giant is highly favored by billionaire investors. However, it's essential to note that investing always involves risk, and past performance is not indicative of future results.\n",
      "\n",
      "2. Microsoft Corporation (MSFT) - Although not explicitly mentioned in the context provided, Microsoft has shown strong growth potential in areas such as cloud services, gaming, and AI technologies.\n",
      "\n",
      "3. Amazon.com, Inc. (AMZN) - Despite facing increased competition and regulatory scrutiny, Amazon continues to innovate and expand its business model, making it a potentially promising investment for the long term.\n",
      "\n",
      "As always, investors should conduct their own research or consult with a financial advisor before making any investment decisions.\n",
      "\n",
      "📄 Fuentes:\n",
      "• Desconocido\n",
      "• Desconocido\n",
      "• Desconocido\n",
      "• Desconocido\n",
      "• Desconocido\n",
      "\n",
      "📢 Respuesta:  {\n",
      "    \"Ford Motor Company (F)\": 25,\n",
      "    \"Tech-heavy Nasdaq\": 75\n",
      "}\n",
      "\n",
      "📄 Fuentes:\n",
      "• Desconocido\n",
      "• Desconocido\n",
      "• Desconocido\n",
      "• Desconocido\n",
      "• Desconocido\n"
     ]
    }
   ],
   "source": [
    "qa = crear_chain_de_preguntas_mistral()\n",
    "\n",
    "while True:\n",
    "    pregunta = input(\"¿En qué puedo ayudarte sobre el mercado?: \")\n",
    "    if pregunta.lower() in [\"salir\", \"exit\", \"q\"]:\n",
    "        break\n",
    "    respuesta = qa(pregunta)\n",
    "    print(\"\\n📢 Respuesta:\", respuesta[\"result\"])\n",
    "    print(\"\\n📄 Fuentes:\")\n",
    "    for doc in respuesta[\"source_documents\"]:\n",
    "        print(\"•\", doc.metadata.get(\"simbolo\", \"Desconocido\"))\n"
   ]
  },
  {
   "cell_type": "markdown",
   "id": "c9493fb4",
   "metadata": {},
   "source": [
    "## analizar_portafolio"
   ]
  },
  {
   "cell_type": "code",
   "execution_count": 125,
   "id": "eca7cfdb",
   "metadata": {},
   "outputs": [],
   "source": [
    "portafolio = {\n",
    "    \"AAPL\": {\n",
    "        \"porcentaje\": 0.4,\n",
    "        \"cantidad_acciones\": 10,\n",
    "        \"precio_promedio\": 175.30\n",
    "    },\n",
    "    \"TSLA\": {\n",
    "        \"porcentaje\": 0.3,\n",
    "        \"cantidad_acciones\": 5,\n",
    "        \"precio_promedio\": 220.10\n",
    "    },\n",
    "    \"MSFT\": {\n",
    "        \"porcentaje\": 0.3,\n",
    "        \"cantidad_acciones\": 8,\n",
    "        \"precio_promedio\": 315.50\n",
    "    }\n",
    "}\n"
   ]
  },
  {
   "cell_type": "markdown",
   "id": "03917dc2",
   "metadata": {},
   "source": [
    "analizar tono"
   ]
  },
  {
   "cell_type": "code",
   "execution_count": 10,
   "id": "ac12aa42",
   "metadata": {},
   "outputs": [],
   "source": [
    "def clasificar_tono(texto: str, qa_chain) -> str:\n",
    "    \"\"\"\n",
    "    Clasifica el sentimiento del texto como positivo, negativo o neutral.\n",
    "    \n",
    "    Args:\n",
    "        texto (str): El texto a clasificar.\n",
    "        qa_chain: Cadena RAG o LLM para inferencia.\n",
    "    \n",
    "    Returns:\n",
    "        str: Uno de 'positivo', 'negativo' o 'neutral'.\n",
    "    \"\"\"\n",
    "    prompt = f\"\"\"Clasifica el siguiente análisis de noticias como 'positivo', 'negativo' o 'neutral, basandote en su impacto en el mercado de valores.':\n",
    "    \n",
    "    Texto: \\\"\\\"\\\"{texto}\\\"\\\"\\\"\n",
    "    \n",
    "    Solo responde con una palabra: positivo, negativo o neutral.\"\"\"\n",
    "    \n",
    "    try:\n",
    "        respuesta = qa_chain({\"query\": prompt})\n",
    "        return respuesta[\"result\"].strip().lower()\n",
    "    except Exception as e:\n",
    "        return f\"error: {str(e)}\"\n"
   ]
  },
  {
   "cell_type": "code",
   "execution_count": 11,
   "id": "8ba91ffb",
   "metadata": {},
   "outputs": [],
   "source": [
    "def analizar_portafolio(portafolio: dict, qa_chain) -> dict:\n",
    "    analisis = {}\n",
    "\n",
    "    for simbolo in portafolio.keys():\n",
    "        print(f\"🔍 Analizando {simbolo}...\")\n",
    "        query = f\"¿Qué riesgos u oportunidades recientes hay respecto a la empresa {simbolo} según las últimas noticias financieras?\"\n",
    "\n",
    "        try:\n",
    "            respuesta = qa_chain({\"query\": query})\n",
    "            resumen = respuesta[\"result\"]\n",
    "            tono = clasificar_tono(resumen, qa_chain)\n",
    "            \n",
    "            analisis[simbolo] = {\n",
    "                \"resumen\": resumen,\n",
    "                \"tono\": tono\n",
    "            }\n",
    "\n",
    "        except Exception as e:\n",
    "            analisis[simbolo] = {\n",
    "                \"resumen\": f\"❌ Error al analizar: {str(e)}\",\n",
    "                \"tono\": \"error\"\n",
    "            }\n",
    "\n",
    "    return analisis\n"
   ]
  },
  {
   "cell_type": "code",
   "execution_count": 42,
   "id": "fc9ddf15",
   "metadata": {},
   "outputs": [
    {
     "name": "stdout",
     "output_type": "stream",
     "text": [
      "Obteniendo noticias para: AMD\n",
      "Cargando índice existente...\n",
      "Las noticias ya estaban indexadas. No se agregaron documentos nuevos.\n",
      "Obteniendo noticias para: NVDA\n",
      "Cargando índice existente...\n",
      "Las noticias ya estaban indexadas. No se agregaron documentos nuevos.\n",
      "Obteniendo noticias para: F\n",
      "Cargando índice existente...\n",
      "Las noticias ya estaban indexadas. No se agregaron documentos nuevos.\n"
     ]
    }
   ],
   "source": [
    "portafolio = {\n",
    "    \"AMD\": 0.4,\n",
    "    \"NVDA\":  0.3,\n",
    "    \"F\":  0.3\n",
    "}\n",
    "\n",
    "for i in portafolio.keys():\n",
    "    actualizar_faiss_con_noticias(i, path_indice=\"./faiss_news_index/\")\n",
    "    # Actualiza el índice FAISS con noticias para cada símbolo en el portafolio\n",
    "\n",
    "# qa_chain = crear_chain_de_preguntas_mistral()  # usando la función que definimos antes\n",
    "\n",
    "# resultado = analizar_portafolio(portafolio, qa_chain)\n",
    "\n",
    "# for simbolo, resumen in resultado.items():\n",
    "#     print(f\"\\n📈 {simbolo}:\")\n",
    "#     print(resumen)\n"
   ]
  },
  {
   "cell_type": "markdown",
   "id": "9ccc0237",
   "metadata": {},
   "source": [
    "## recomendar ajustes"
   ]
  },
  {
   "cell_type": "code",
   "execution_count": 24,
   "id": "904904a6",
   "metadata": {},
   "outputs": [],
   "source": [
    "def recomendar_ajustes(analisis: dict, portafolio: dict) -> dict:\n",
    "    \"\"\"\n",
    "    Propone ajustes al portafolio según el tono del análisis.\n",
    "\n",
    "    Args:\n",
    "        analisis (dict): Diccionario con 'resumen' y 'tono' por símbolo.\n",
    "        portafolio (dict): Portafolio actual, ej: {\"AAPL\": 0.4, \"TSLA\": 0.6}\n",
    "\n",
    "    Returns:\n",
    "        dict: Ajustes propuestos, por ejemplo {\"AAPL\": \"reducir\", \"TSLA\": \"mantener\"}\n",
    "    \"\"\"\n",
    "    recomendaciones = {}\n",
    "\n",
    "    for simbolo, data in analisis.items():\n",
    "        tono = data.get(\"tono\", \"neutral\")\n",
    "\n",
    "        if tono == \"positivo\" or tono == \"positive\":\n",
    "            recomendaciones[simbolo] = \"aumentar\"\n",
    "        elif tono == \"negativo\" or tono == 'negative':\n",
    "            recomendaciones[simbolo] = \"reducir\"\n",
    "        else:\n",
    "            recomendaciones[simbolo] = \"mantener\"\n",
    "\n",
    "    return recomendaciones\n"
   ]
  },
  {
   "cell_type": "code",
   "execution_count": 25,
   "id": "a8f7e679",
   "metadata": {},
   "outputs": [],
   "source": [
    "recomendaciones = recomendar_ajustes(resultado, portafolio)"
   ]
  },
  {
   "cell_type": "markdown",
   "id": "72d13533",
   "metadata": {},
   "source": [
    "## ejecutar ajuste"
   ]
  },
  {
   "cell_type": "code",
   "execution_count": 28,
   "id": "f68644d0",
   "metadata": {},
   "outputs": [],
   "source": [
    "def ejecutar_ajuste(portafolio: dict, recomendaciones: dict,  step: float = 0.1) -> dict:\n",
    "    \"\"\"\n",
    "    Aplica los ajustes al portafolio si el usuario confirma.\n",
    "\n",
    "    Args:\n",
    "        portafolio (dict): Estado actual del portafolio.\n",
    "        recomendaciones (dict): {\"AAPL\": \"reducir\", \"TSLA\": \"aumentar\", ...}\n",
    "        confirmacion_usuario (bool): Si el usuario acepta los cambios.\n",
    "        step (float): Cuánto ajustar por símbolo (por defecto 10%).\n",
    "\n",
    "    Returns:\n",
    "        dict: Nuevo estado del portafolio.\n",
    "    \"\"\"\n",
    "    confirmacion_usuario = input(f\"¿Aplicar ajustes al portafolio? {recomendaciones} (s/n): \").strip().lower() == 's'\n",
    "    if not confirmacion_usuario:\n",
    "        print(\"Usuario rechazó los ajustes. Portafolio sin cambios.\")\n",
    "        return portafolio\n",
    "\n",
    "    nuevo_portafolio = portafolio.copy()\n",
    "\n",
    "    for simbolo, accion in recomendaciones.items():\n",
    "        actual = nuevo_portafolio.get(simbolo, 0.0)\n",
    "\n",
    "        if accion == \"aumentar\":\n",
    "            nuevo_portafolio[simbolo] = min(actual + step, 1.0)\n",
    "        elif accion == \"reducir\":\n",
    "            nuevo_portafolio[simbolo] = max(actual - step, 0.0)\n",
    "        # mantener → sin cambio\n",
    "\n",
    "    # Normalizar\n",
    "    total = sum(nuevo_portafolio.values())\n",
    "    for k in nuevo_portafolio:\n",
    "        nuevo_portafolio[k] /= total\n",
    "\n",
    "    print(\"Ajustes aplicados.\")\n",
    "    return nuevo_portafolio\n"
   ]
  },
  {
   "cell_type": "markdown",
   "id": "cb1985dd",
   "metadata": {},
   "source": [
    "# Grafo LangGraph"
   ]
  },
  {
   "cell_type": "code",
   "execution_count": 46,
   "id": "2bf7836c",
   "metadata": {},
   "outputs": [],
   "source": [
    "from langgraph.graph import StateGraph, END\n",
    "from typing import TypedDict, List\n",
    "from langchain_core.messages import AIMessage\n",
    "from langchain_core.runnables import Runnable\n",
    "\n",
    "# Estado del grafo\n",
    "class EstadoCartera(TypedDict):\n",
    "    cartera: List[str]\n",
    "    noticias_indexadas: bool\n",
    "\n",
    "# Nodo: Bienvenida y construcción inicial de cartera\n",
    "def bienvenida_y_cartera(state: EstadoCartera) -> tuple[EstadoCartera, AIMessage]:\n",
    "    # Aquí se puede usar Tavily para buscar acciones populares\n",
    "    print(\"✅ Bienvenida y generación de cartera inicial...\")\n",
    "    \n",
    "    acciones_iniciales = [\"AAPL\", \"TSLA\", \"NVDA\", \"MSFT\", \"AMZN\"]  # mock o Tavily aquí\n",
    "    mensaje = AIMessage(content=f\"\"\"\n",
    "¡Hola! 👋 Bienvenido/a al asistente de inversiones.\n",
    "\n",
    "Aquí tienes una cartera inicial sugerida basada en las acciones más populares del momento:\n",
    "{acciones_iniciales}\n",
    "\n",
    "¿Qué te gustaría hacer ahora?\n",
    "- Ver noticias recientes 📰\n",
    "- Consultar por un sector específico 🔍\n",
    "- Ver estado de la cartera 📈\n",
    "- Obtener sugerencias de rebalanceo 🔁\n",
    "\"\"\")\n",
    "    return {\"cartera\": acciones_iniciales, \"noticias_indexadas\": False}, mensaje\n"
   ]
  },
  {
   "cell_type": "code",
   "execution_count": 52,
   "id": "26a36373",
   "metadata": {},
   "outputs": [],
   "source": [
    "# Crear el grafo\n",
    "graph = StateGraph(EstadoCartera)\n",
    "graph.add_node(\"bienvenida_y_cartera\", bienvenida_y_cartera)\n",
    "\n",
    "# Transición directa al final por ahora\n",
    "graph.set_entry_point(\"bienvenida_y_cartera\")\n",
    "graph.set_finish_point(\"bienvenida_y_cartera\")  # solo para esta fase de prueba\n",
    "\n",
    "# Compilar grafo\n",
    "grafo_compilado = graph.compile()\n"
   ]
  },
  {
   "cell_type": "code",
   "execution_count": null,
   "id": "ed621800",
   "metadata": {},
   "outputs": [],
   "source": []
  },
  {
   "cell_type": "code",
   "execution_count": 53,
   "id": "ac47e8e8",
   "metadata": {},
   "outputs": [
    {
     "name": "stdout",
     "output_type": "stream",
     "text": [
      "✅ Bienvenida y generación de cartera inicial...\n"
     ]
    },
    {
     "ename": "InvalidUpdateError",
     "evalue": "Expected dict, got ({'cartera': ['AAPL', 'TSLA', 'NVDA', 'MSFT', 'AMZN'], 'noticias_indexadas': False}, AIMessage(content=\"\\n¡Hola! 👋 Bienvenido/a al asistente de inversiones.\\n\\nAquí tienes una cartera inicial sugerida basada en las acciones más populares del momento:\\n['AAPL', 'TSLA', 'NVDA', 'MSFT', 'AMZN']\\n\\n¿Qué te gustaría hacer ahora?\\n- Ver noticias recientes 📰\\n- Consultar por un sector específico 🔍\\n- Ver estado de la cartera 📈\\n- Obtener sugerencias de rebalanceo 🔁\\n\", additional_kwargs={}, response_metadata={}))\nFor troubleshooting, visit: https://python.langchain.com/docs/troubleshooting/errors/INVALID_GRAPH_NODE_RETURN_VALUE",
     "output_type": "error",
     "traceback": [
      "\u001b[1;31m---------------------------------------------------------------------------\u001b[0m",
      "\u001b[1;31mInvalidUpdateError\u001b[0m                        Traceback (most recent call last)",
      "Cell \u001b[1;32mIn[53], line 2\u001b[0m\n\u001b[0;32m      1\u001b[0m estado_inicial \u001b[38;5;241m=\u001b[39m {\u001b[38;5;124m\"\u001b[39m\u001b[38;5;124mcartera\u001b[39m\u001b[38;5;124m\"\u001b[39m: [\u001b[38;5;124m'\u001b[39m\u001b[38;5;124maapl\u001b[39m\u001b[38;5;124m'\u001b[39m]}\n\u001b[1;32m----> 2\u001b[0m resultado \u001b[38;5;241m=\u001b[39m \u001b[43mgrafo_compilado\u001b[49m\u001b[38;5;241;43m.\u001b[39;49m\u001b[43minvoke\u001b[49m\u001b[43m(\u001b[49m\u001b[43mestado_inicial\u001b[49m\u001b[43m)\u001b[49m\n\u001b[0;32m      3\u001b[0m \u001b[38;5;28mprint\u001b[39m(resultado[\u001b[38;5;241m1\u001b[39m]\u001b[38;5;241m.\u001b[39mcontent)\n",
      "File \u001b[1;32mc:\\Users\\piery\\Desktop\\Nueva carpeta (3)\\Clay\\.venv\\lib\\site-packages\\langgraph\\pregel\\__init__.py:2718\u001b[0m, in \u001b[0;36mPregel.invoke\u001b[1;34m(self, input, config, stream_mode, output_keys, interrupt_before, interrupt_after, checkpoint_during, debug, **kwargs)\u001b[0m\n\u001b[0;32m   2716\u001b[0m \u001b[38;5;28;01melse\u001b[39;00m:\n\u001b[0;32m   2717\u001b[0m     chunks \u001b[38;5;241m=\u001b[39m []\n\u001b[1;32m-> 2718\u001b[0m \u001b[38;5;28;01mfor\u001b[39;00m chunk \u001b[38;5;129;01min\u001b[39;00m \u001b[38;5;28mself\u001b[39m\u001b[38;5;241m.\u001b[39mstream(\n\u001b[0;32m   2719\u001b[0m     \u001b[38;5;28minput\u001b[39m,\n\u001b[0;32m   2720\u001b[0m     config,\n\u001b[0;32m   2721\u001b[0m     stream_mode\u001b[38;5;241m=\u001b[39mstream_mode,\n\u001b[0;32m   2722\u001b[0m     output_keys\u001b[38;5;241m=\u001b[39moutput_keys,\n\u001b[0;32m   2723\u001b[0m     interrupt_before\u001b[38;5;241m=\u001b[39minterrupt_before,\n\u001b[0;32m   2724\u001b[0m     interrupt_after\u001b[38;5;241m=\u001b[39minterrupt_after,\n\u001b[0;32m   2725\u001b[0m     checkpoint_during\u001b[38;5;241m=\u001b[39mcheckpoint_during,\n\u001b[0;32m   2726\u001b[0m     debug\u001b[38;5;241m=\u001b[39mdebug,\n\u001b[0;32m   2727\u001b[0m     \u001b[38;5;241m*\u001b[39m\u001b[38;5;241m*\u001b[39mkwargs,\n\u001b[0;32m   2728\u001b[0m ):\n\u001b[0;32m   2729\u001b[0m     \u001b[38;5;28;01mif\u001b[39;00m stream_mode \u001b[38;5;241m==\u001b[39m \u001b[38;5;124m\"\u001b[39m\u001b[38;5;124mvalues\u001b[39m\u001b[38;5;124m\"\u001b[39m:\n\u001b[0;32m   2730\u001b[0m         latest \u001b[38;5;241m=\u001b[39m chunk\n",
      "File \u001b[1;32mc:\\Users\\piery\\Desktop\\Nueva carpeta (3)\\Clay\\.venv\\lib\\site-packages\\langgraph\\pregel\\__init__.py:2356\u001b[0m, in \u001b[0;36mPregel.stream\u001b[1;34m(self, input, config, stream_mode, output_keys, interrupt_before, interrupt_after, checkpoint_during, debug, subgraphs)\u001b[0m\n\u001b[0;32m   2350\u001b[0m     \u001b[38;5;66;03m# Similarly to Bulk Synchronous Parallel / Pregel model\u001b[39;00m\n\u001b[0;32m   2351\u001b[0m     \u001b[38;5;66;03m# computation proceeds in steps, while there are channel updates.\u001b[39;00m\n\u001b[0;32m   2352\u001b[0m     \u001b[38;5;66;03m# Channel updates from step N are only visible in step N+1\u001b[39;00m\n\u001b[0;32m   2353\u001b[0m     \u001b[38;5;66;03m# channels are guaranteed to be immutable for the duration of the step,\u001b[39;00m\n\u001b[0;32m   2354\u001b[0m     \u001b[38;5;66;03m# with channel updates applied only at the transition between steps.\u001b[39;00m\n\u001b[0;32m   2355\u001b[0m     \u001b[38;5;28;01mwhile\u001b[39;00m loop\u001b[38;5;241m.\u001b[39mtick(input_keys\u001b[38;5;241m=\u001b[39m\u001b[38;5;28mself\u001b[39m\u001b[38;5;241m.\u001b[39minput_channels):\n\u001b[1;32m-> 2356\u001b[0m         \u001b[38;5;28;01mfor\u001b[39;00m _ \u001b[38;5;129;01min\u001b[39;00m runner\u001b[38;5;241m.\u001b[39mtick(\n\u001b[0;32m   2357\u001b[0m             loop\u001b[38;5;241m.\u001b[39mtasks\u001b[38;5;241m.\u001b[39mvalues(),\n\u001b[0;32m   2358\u001b[0m             timeout\u001b[38;5;241m=\u001b[39m\u001b[38;5;28mself\u001b[39m\u001b[38;5;241m.\u001b[39mstep_timeout,\n\u001b[0;32m   2359\u001b[0m             retry_policy\u001b[38;5;241m=\u001b[39m\u001b[38;5;28mself\u001b[39m\u001b[38;5;241m.\u001b[39mretry_policy,\n\u001b[0;32m   2360\u001b[0m             get_waiter\u001b[38;5;241m=\u001b[39mget_waiter,\n\u001b[0;32m   2361\u001b[0m         ):\n\u001b[0;32m   2362\u001b[0m             \u001b[38;5;66;03m# emit output\u001b[39;00m\n\u001b[0;32m   2363\u001b[0m             \u001b[38;5;28;01myield from\u001b[39;00m output()\n\u001b[0;32m   2364\u001b[0m \u001b[38;5;66;03m# emit output\u001b[39;00m\n",
      "File \u001b[1;32mc:\\Users\\piery\\Desktop\\Nueva carpeta (3)\\Clay\\.venv\\lib\\site-packages\\langgraph\\pregel\\runner.py:158\u001b[0m, in \u001b[0;36mPregelRunner.tick\u001b[1;34m(self, tasks, reraise, timeout, retry_policy, get_waiter)\u001b[0m\n\u001b[0;32m    156\u001b[0m t \u001b[38;5;241m=\u001b[39m tasks[\u001b[38;5;241m0\u001b[39m]\n\u001b[0;32m    157\u001b[0m \u001b[38;5;28;01mtry\u001b[39;00m:\n\u001b[1;32m--> 158\u001b[0m     \u001b[43mrun_with_retry\u001b[49m\u001b[43m(\u001b[49m\n\u001b[0;32m    159\u001b[0m \u001b[43m        \u001b[49m\u001b[43mt\u001b[49m\u001b[43m,\u001b[49m\n\u001b[0;32m    160\u001b[0m \u001b[43m        \u001b[49m\u001b[43mretry_policy\u001b[49m\u001b[43m,\u001b[49m\n\u001b[0;32m    161\u001b[0m \u001b[43m        \u001b[49m\u001b[43mconfigurable\u001b[49m\u001b[38;5;241;43m=\u001b[39;49m\u001b[43m{\u001b[49m\n\u001b[0;32m    162\u001b[0m \u001b[43m            \u001b[49m\u001b[43mCONFIG_KEY_CALL\u001b[49m\u001b[43m:\u001b[49m\u001b[43m \u001b[49m\u001b[43mpartial\u001b[49m\u001b[43m(\u001b[49m\n\u001b[0;32m    163\u001b[0m \u001b[43m                \u001b[49m\u001b[43m_call\u001b[49m\u001b[43m,\u001b[49m\n\u001b[0;32m    164\u001b[0m \u001b[43m                \u001b[49m\u001b[43mweakref\u001b[49m\u001b[38;5;241;43m.\u001b[39;49m\u001b[43mref\u001b[49m\u001b[43m(\u001b[49m\u001b[43mt\u001b[49m\u001b[43m)\u001b[49m\u001b[43m,\u001b[49m\n\u001b[0;32m    165\u001b[0m \u001b[43m                \u001b[49m\u001b[43mretry\u001b[49m\u001b[38;5;241;43m=\u001b[39;49m\u001b[43mretry_policy\u001b[49m\u001b[43m,\u001b[49m\n\u001b[0;32m    166\u001b[0m \u001b[43m                \u001b[49m\u001b[43mfutures\u001b[49m\u001b[38;5;241;43m=\u001b[39;49m\u001b[43mweakref\u001b[49m\u001b[38;5;241;43m.\u001b[39;49m\u001b[43mref\u001b[49m\u001b[43m(\u001b[49m\u001b[43mfutures\u001b[49m\u001b[43m)\u001b[49m\u001b[43m,\u001b[49m\n\u001b[0;32m    167\u001b[0m \u001b[43m                \u001b[49m\u001b[43mschedule_task\u001b[49m\u001b[38;5;241;43m=\u001b[39;49m\u001b[38;5;28;43mself\u001b[39;49m\u001b[38;5;241;43m.\u001b[39;49m\u001b[43mschedule_task\u001b[49m\u001b[43m,\u001b[49m\n\u001b[0;32m    168\u001b[0m \u001b[43m                \u001b[49m\u001b[43msubmit\u001b[49m\u001b[38;5;241;43m=\u001b[39;49m\u001b[38;5;28;43mself\u001b[39;49m\u001b[38;5;241;43m.\u001b[39;49m\u001b[43msubmit\u001b[49m\u001b[43m,\u001b[49m\n\u001b[0;32m    169\u001b[0m \u001b[43m                \u001b[49m\u001b[43mreraise\u001b[49m\u001b[38;5;241;43m=\u001b[39;49m\u001b[43mreraise\u001b[49m\u001b[43m,\u001b[49m\n\u001b[0;32m    170\u001b[0m \u001b[43m            \u001b[49m\u001b[43m)\u001b[49m\u001b[43m,\u001b[49m\n\u001b[0;32m    171\u001b[0m \u001b[43m        \u001b[49m\u001b[43m}\u001b[49m\u001b[43m,\u001b[49m\n\u001b[0;32m    172\u001b[0m \u001b[43m    \u001b[49m\u001b[43m)\u001b[49m\n\u001b[0;32m    173\u001b[0m     \u001b[38;5;28mself\u001b[39m\u001b[38;5;241m.\u001b[39mcommit(t, \u001b[38;5;28;01mNone\u001b[39;00m)\n\u001b[0;32m    174\u001b[0m \u001b[38;5;28;01mexcept\u001b[39;00m \u001b[38;5;167;01mException\u001b[39;00m \u001b[38;5;28;01mas\u001b[39;00m exc:\n",
      "File \u001b[1;32mc:\\Users\\piery\\Desktop\\Nueva carpeta (3)\\Clay\\.venv\\lib\\site-packages\\langgraph\\pregel\\retry.py:39\u001b[0m, in \u001b[0;36mrun_with_retry\u001b[1;34m(task, retry_policy, configurable)\u001b[0m\n\u001b[0;32m     37\u001b[0m     task\u001b[38;5;241m.\u001b[39mwrites\u001b[38;5;241m.\u001b[39mclear()\n\u001b[0;32m     38\u001b[0m     \u001b[38;5;66;03m# run the task\u001b[39;00m\n\u001b[1;32m---> 39\u001b[0m     \u001b[38;5;28;01mreturn\u001b[39;00m \u001b[43mtask\u001b[49m\u001b[38;5;241;43m.\u001b[39;49m\u001b[43mproc\u001b[49m\u001b[38;5;241;43m.\u001b[39;49m\u001b[43minvoke\u001b[49m\u001b[43m(\u001b[49m\u001b[43mtask\u001b[49m\u001b[38;5;241;43m.\u001b[39;49m\u001b[43minput\u001b[49m\u001b[43m,\u001b[49m\u001b[43m \u001b[49m\u001b[43mconfig\u001b[49m\u001b[43m)\u001b[49m\n\u001b[0;32m     40\u001b[0m \u001b[38;5;28;01mexcept\u001b[39;00m ParentCommand \u001b[38;5;28;01mas\u001b[39;00m exc:\n\u001b[0;32m     41\u001b[0m     ns: \u001b[38;5;28mstr\u001b[39m \u001b[38;5;241m=\u001b[39m config[CONF][CONFIG_KEY_CHECKPOINT_NS]\n",
      "File \u001b[1;32mc:\\Users\\piery\\Desktop\\Nueva carpeta (3)\\Clay\\.venv\\lib\\site-packages\\langgraph\\utils\\runnable.py:624\u001b[0m, in \u001b[0;36mRunnableSeq.invoke\u001b[1;34m(self, input, config, **kwargs)\u001b[0m\n\u001b[0;32m    622\u001b[0m                 \u001b[38;5;28minput\u001b[39m \u001b[38;5;241m=\u001b[39m context\u001b[38;5;241m.\u001b[39mrun(step\u001b[38;5;241m.\u001b[39minvoke, \u001b[38;5;28minput\u001b[39m, config, \u001b[38;5;241m*\u001b[39m\u001b[38;5;241m*\u001b[39mkwargs)\n\u001b[0;32m    623\u001b[0m         \u001b[38;5;28;01melse\u001b[39;00m:\n\u001b[1;32m--> 624\u001b[0m             \u001b[38;5;28minput\u001b[39m \u001b[38;5;241m=\u001b[39m \u001b[43mstep\u001b[49m\u001b[38;5;241;43m.\u001b[39;49m\u001b[43minvoke\u001b[49m\u001b[43m(\u001b[49m\u001b[38;5;28;43minput\u001b[39;49m\u001b[43m,\u001b[49m\u001b[43m \u001b[49m\u001b[43mconfig\u001b[49m\u001b[43m)\u001b[49m\n\u001b[0;32m    625\u001b[0m \u001b[38;5;66;03m# finish the root run\u001b[39;00m\n\u001b[0;32m    626\u001b[0m \u001b[38;5;28;01mexcept\u001b[39;00m \u001b[38;5;167;01mBaseException\u001b[39;00m \u001b[38;5;28;01mas\u001b[39;00m e:\n",
      "File \u001b[1;32mc:\\Users\\piery\\Desktop\\Nueva carpeta (3)\\Clay\\.venv\\lib\\site-packages\\langgraph\\utils\\runnable.py:376\u001b[0m, in \u001b[0;36mRunnableCallable.invoke\u001b[1;34m(self, input, config, **kwargs)\u001b[0m\n\u001b[0;32m    374\u001b[0m         run_manager\u001b[38;5;241m.\u001b[39mon_chain_end(ret)\n\u001b[0;32m    375\u001b[0m \u001b[38;5;28;01melse\u001b[39;00m:\n\u001b[1;32m--> 376\u001b[0m     ret \u001b[38;5;241m=\u001b[39m \u001b[38;5;28mself\u001b[39m\u001b[38;5;241m.\u001b[39mfunc(\u001b[38;5;241m*\u001b[39margs, \u001b[38;5;241m*\u001b[39m\u001b[38;5;241m*\u001b[39mkwargs)\n\u001b[0;32m    377\u001b[0m \u001b[38;5;28;01mif\u001b[39;00m \u001b[38;5;28mself\u001b[39m\u001b[38;5;241m.\u001b[39mrecurse \u001b[38;5;129;01mand\u001b[39;00m \u001b[38;5;28misinstance\u001b[39m(ret, Runnable):\n\u001b[0;32m    378\u001b[0m     \u001b[38;5;28;01mreturn\u001b[39;00m ret\u001b[38;5;241m.\u001b[39minvoke(\u001b[38;5;28minput\u001b[39m, config)\n",
      "File \u001b[1;32mc:\\Users\\piery\\Desktop\\Nueva carpeta (3)\\Clay\\.venv\\lib\\site-packages\\langgraph\\pregel\\write.py:99\u001b[0m, in \u001b[0;36mChannelWrite._write\u001b[1;34m(self, input, config)\u001b[0m\n\u001b[0;32m     90\u001b[0m \u001b[38;5;28;01mdef\u001b[39;00m\u001b[38;5;250m \u001b[39m\u001b[38;5;21m_write\u001b[39m(\u001b[38;5;28mself\u001b[39m, \u001b[38;5;28minput\u001b[39m: Any, config: RunnableConfig) \u001b[38;5;241m-\u001b[39m\u001b[38;5;241m>\u001b[39m \u001b[38;5;28;01mNone\u001b[39;00m:\n\u001b[0;32m     91\u001b[0m     writes \u001b[38;5;241m=\u001b[39m [\n\u001b[0;32m     92\u001b[0m         ChannelWriteEntry(write\u001b[38;5;241m.\u001b[39mchannel, \u001b[38;5;28minput\u001b[39m, write\u001b[38;5;241m.\u001b[39mskip_none, write\u001b[38;5;241m.\u001b[39mmapper)\n\u001b[0;32m     93\u001b[0m         \u001b[38;5;28;01mif\u001b[39;00m \u001b[38;5;28misinstance\u001b[39m(write, ChannelWriteEntry) \u001b[38;5;129;01mand\u001b[39;00m write\u001b[38;5;241m.\u001b[39mvalue \u001b[38;5;129;01mis\u001b[39;00m PASSTHROUGH\n\u001b[1;32m   (...)\u001b[0m\n\u001b[0;32m     97\u001b[0m         \u001b[38;5;28;01mfor\u001b[39;00m write \u001b[38;5;129;01min\u001b[39;00m \u001b[38;5;28mself\u001b[39m\u001b[38;5;241m.\u001b[39mwrites\n\u001b[0;32m     98\u001b[0m     ]\n\u001b[1;32m---> 99\u001b[0m     \u001b[38;5;28;43mself\u001b[39;49m\u001b[38;5;241;43m.\u001b[39;49m\u001b[43mdo_write\u001b[49m\u001b[43m(\u001b[49m\n\u001b[0;32m    100\u001b[0m \u001b[43m        \u001b[49m\u001b[43mconfig\u001b[49m\u001b[43m,\u001b[49m\n\u001b[0;32m    101\u001b[0m \u001b[43m        \u001b[49m\u001b[43mwrites\u001b[49m\u001b[43m,\u001b[49m\n\u001b[0;32m    102\u001b[0m \u001b[43m    \u001b[49m\u001b[43m)\u001b[49m\n\u001b[0;32m    103\u001b[0m     \u001b[38;5;28;01mreturn\u001b[39;00m \u001b[38;5;28minput\u001b[39m\n",
      "File \u001b[1;32mc:\\Users\\piery\\Desktop\\Nueva carpeta (3)\\Clay\\.venv\\lib\\site-packages\\langgraph\\pregel\\write.py:144\u001b[0m, in \u001b[0;36mChannelWrite.do_write\u001b[1;34m(config, writes, require_at_least_one_of)\u001b[0m\n\u001b[0;32m    142\u001b[0m     tuples\u001b[38;5;241m.\u001b[39mappend((TASKS, w))\n\u001b[0;32m    143\u001b[0m \u001b[38;5;28;01melif\u001b[39;00m \u001b[38;5;28misinstance\u001b[39m(w, ChannelWriteTupleEntry):\n\u001b[1;32m--> 144\u001b[0m     \u001b[38;5;28;01mif\u001b[39;00m ww \u001b[38;5;241m:=\u001b[39m \u001b[43mw\u001b[49m\u001b[38;5;241;43m.\u001b[39;49m\u001b[43mmapper\u001b[49m\u001b[43m(\u001b[49m\u001b[43mw\u001b[49m\u001b[38;5;241;43m.\u001b[39;49m\u001b[43mvalue\u001b[49m\u001b[43m)\u001b[49m:\n\u001b[0;32m    145\u001b[0m         tuples\u001b[38;5;241m.\u001b[39mextend(ww)\n\u001b[0;32m    146\u001b[0m \u001b[38;5;28;01melif\u001b[39;00m \u001b[38;5;28misinstance\u001b[39m(w, ChannelWriteEntry):\n",
      "File \u001b[1;32mc:\\Users\\piery\\Desktop\\Nueva carpeta (3)\\Clay\\.venv\\lib\\site-packages\\langgraph\\graph\\state.py:770\u001b[0m, in \u001b[0;36mCompiledStateGraph.attach_node.<locals>._get_updates\u001b[1;34m(input)\u001b[0m\n\u001b[0;32m    765\u001b[0m \u001b[38;5;28;01melse\u001b[39;00m:\n\u001b[0;32m    766\u001b[0m     msg \u001b[38;5;241m=\u001b[39m create_error_message(\n\u001b[0;32m    767\u001b[0m         message\u001b[38;5;241m=\u001b[39m\u001b[38;5;124mf\u001b[39m\u001b[38;5;124m\"\u001b[39m\u001b[38;5;124mExpected dict, got \u001b[39m\u001b[38;5;132;01m{\u001b[39;00m\u001b[38;5;28minput\u001b[39m\u001b[38;5;132;01m}\u001b[39;00m\u001b[38;5;124m\"\u001b[39m,\n\u001b[0;32m    768\u001b[0m         error_code\u001b[38;5;241m=\u001b[39mErrorCode\u001b[38;5;241m.\u001b[39mINVALID_GRAPH_NODE_RETURN_VALUE,\n\u001b[0;32m    769\u001b[0m     )\n\u001b[1;32m--> 770\u001b[0m     \u001b[38;5;28;01mraise\u001b[39;00m InvalidUpdateError(msg)\n",
      "\u001b[1;31mInvalidUpdateError\u001b[0m: Expected dict, got ({'cartera': ['AAPL', 'TSLA', 'NVDA', 'MSFT', 'AMZN'], 'noticias_indexadas': False}, AIMessage(content=\"\\n¡Hola! 👋 Bienvenido/a al asistente de inversiones.\\n\\nAquí tienes una cartera inicial sugerida basada en las acciones más populares del momento:\\n['AAPL', 'TSLA', 'NVDA', 'MSFT', 'AMZN']\\n\\n¿Qué te gustaría hacer ahora?\\n- Ver noticias recientes 📰\\n- Consultar por un sector específico 🔍\\n- Ver estado de la cartera 📈\\n- Obtener sugerencias de rebalanceo 🔁\\n\", additional_kwargs={}, response_metadata={}))\nFor troubleshooting, visit: https://python.langchain.com/docs/troubleshooting/errors/INVALID_GRAPH_NODE_RETURN_VALUE"
     ]
    }
   ],
   "source": [
    "estado_inicial = {\"cartera\": [], \"noticias_indexadas\": False}\n",
    "resultado = grafo_compilado.invoke(estado_inicial)\n",
    "print(resultado[1].content)\n"
   ]
  },
  {
   "cell_type": "code",
   "execution_count": 58,
   "id": "154c50ee",
   "metadata": {},
   "outputs": [],
   "source": [
    "from langchain_community.tools.tavily_search import TavilySearchResults\n",
    "from langchain_core.documents import Document\n",
    "import re\n",
    "import os\n",
    "os.environ[\"TAVILY_API_KEY\"] = \"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\"\n",
    "\n",
    "\n",
    "\n",
    "def extraer_tickers_desde_resultados(resultados: list[str]) -> list[str]:\n",
    "    \"\"\"Extrae posibles tickers bursátiles desde resultados de búsqueda Tavily.\"\"\"\n",
    "    tickers = set()\n",
    "    for texto in resultados:\n",
    "        # Buscar tickers comunes: AAPL, TSLA, META, etc.\n",
    "        posibles = re.findall(r'\\b[A-Z]{2,5}\\b', texto)\n",
    "        tickers.update(posibles)\n",
    "    return list(tickers)\n",
    "\n",
    "def obtener_tickers_relevantes_tavily(query: str = \"top performing stocks April 2025\") -> list[str]:\n",
    "    \"\"\"Usa Tavily para buscar acciones destacadas y extraer tickers bursátiles.\"\"\"\n",
    "    tavily_tool = TavilySearchResults(k=5)\n",
    "    resultados = tavily_tool.run(query)\n",
    "\n",
    "    # `resultados` es una lista de dicts con 'content', 'url', etc.\n",
    "    textos = [r['content'] for r in resultados if 'content' in r]\n",
    "    tickers = extraer_tickers_desde_resultados(textos)\n",
    "    return tickers\n"
   ]
  },
  {
   "cell_type": "code",
   "execution_count": 68,
   "id": "8e341bc7",
   "metadata": {},
   "outputs": [],
   "source": [
    "tavily_tool = TavilySearchResults(k=5)\n",
    "resultados = tavily_tool.run(\"best stocks to buy for 2025 based on news\")\n",
    "\n",
    "# `resultados` es una lista de dicts con 'content', 'url', etc.\n",
    "textos = [r['content'] for r in resultados if 'content' in r]"
   ]
  },
  {
   "cell_type": "code",
   "execution_count": 76,
   "id": "009fec1b",
   "metadata": {},
   "outputs": [
    {
     "data": {
      "text/plain": [
       "5"
      ]
     },
     "execution_count": 76,
     "metadata": {},
     "output_type": "execute_result"
    }
   ],
   "source": [
    "len(textos)"
   ]
  },
  {
   "cell_type": "code",
   "execution_count": 77,
   "id": "318fe0bb",
   "metadata": {},
   "outputs": [
    {
     "name": "stdout",
     "output_type": "stream",
     "text": [
      "Tickers relevantes encontrados: ['IONQ', 'AMZN', 'AI', 'NYSE', 'CZR', 'CEO', 'PDD', 'GPN', 'ACGL', 'BRK', 'MGM', 'COST', 'CMCSA', 'CAGR', 'SOFI', 'NU', 'WBD', 'EA', 'ALL', 'LVS']\n"
     ]
    }
   ],
   "source": [
    "\n",
    "\n",
    "tickers = obtener_tickers_relevantes_tavily(\"best stocks to buy for 2025 based yahoo finances and news\")\n",
    "print(\"Tickers relevantes encontrados:\", tickers)"
   ]
  },
  {
   "cell_type": "code",
   "execution_count": null,
   "id": "2e76ab05",
   "metadata": {},
   "outputs": [],
   "source": [
    "from langchain_community.tools.tavily_search import TavilySearchResults\n",
    "from langchain.agents import Tool\n",
    "\n",
    "os.environ[\"TAVILY_API_KEY\"] = \"\"\n",
    "# Configura Tavily\n",
    "tavily_tool = TavilySearchResults()\n",
    "\n",
    "# Lo puedes envolver como tool para usar dentro del LangGraph\n",
    "tavily_langgraph_tool = Tool(\n",
    "    name=\"Tavily Search\",\n",
    "    func=tavily_tool.run,\n",
    "    description=\"Busca noticias relevantes sobre sectores financieros.\"\n",
    ")\n"
   ]
  },
  {
   "cell_type": "code",
   "execution_count": 79,
   "id": "7f1f268e",
   "metadata": {},
   "outputs": [],
   "source": [
    "distribucion = {\n",
    "    \"Equity Tech Fund\": 0.20,\n",
    "    \"GreenEnergy ETF\": 0.15,\n",
    "    \"Health Bio Stocks\": 0.10,\n",
    "    \"Global Bonds Fund\": 0.10,\n",
    "    \"CryptoIndex\": 0.10,\n",
    "    \"RealEstate REIT\": 0.10,\n",
    "    \"Emerging Markets Fund\": 0.10,\n",
    "    \"AI & Robotics ETF\": 0.05,\n",
    "    \"Commodities Basket\": 0.05,\n",
    "    \"Cash Reserve\": 0.05\n",
    "    \n",
    "}\n",
    "\n",
    "# Calcular montos\n",
    "cartera = {k: round(v * 10000, 2) for k, v in distribucion.items()}\n"
   ]
  },
  {
   "cell_type": "code",
   "execution_count": 81,
   "id": "680ce164",
   "metadata": {},
   "outputs": [],
   "source": [
    "sectores = [\n",
    "    \"technology stocks\",\n",
    "    \"renewable energy\",\n",
    "    \"biotech stocks\",\n",
    "    \"global bonds\",\n",
    "    \"cryptocurrencies\",\n",
    "    \"real estate REIT\",\n",
    "    \"emerging markets\",\n",
    "    \"AI and robotics\",\n",
    "    \"commodities\",\n",
    "]\n",
    "\n",
    "noticias_por_sector = {}\n",
    "for sector in sectores:\n",
    "    resultado = tavily_tool.run(sector)\n",
    "    noticias_por_sector[sector] = resultado\n"
   ]
  },
  {
   "cell_type": "code",
   "execution_count": 86,
   "id": "c2d9f275",
   "metadata": {},
   "outputs": [
    {
     "data": {
      "text/plain": [
       "\"Tesla (NasdaqGS:TSLA) Reports First Quarter 2025 Vehicle Production & Delivery\\nTesla (NasdaqGS:TSLA) reported its first quarter 2025 results on April 2, revealing the production of 362,615 vehicles and delivery of 336,681 vehicles, which aligns with its long-term operational goals. These robust figures may have bolstered investor confidence, contributing to a 15% gain in the company's share price over the past week. Despite the broader market downturn prompted by U.S. restrictions on chip exports to China affecting major tech stocks, Tesla managed to outperform the...\""
      ]
     },
     "execution_count": 86,
     "metadata": {},
     "output_type": "execute_result"
    }
   ],
   "source": [
    "noticias"
   ]
  },
  {
   "cell_type": "code",
   "execution_count": null,
   "id": "efdea8e2",
   "metadata": {},
   "outputs": [],
   "source": [
    "from langchain.llms import Ollama\n",
    "from langchain.prompts import PromptTemplate\n",
    "from langchain.chains import LLMChain\n",
    "\n",
    "ollama_llm = Ollama(model=\"mistral\")\n",
    "\n",
    "template = PromptTemplate.from_template(\"\"\"\n",
    "Dada la siguiente distribución de cartera y las noticias recientes de cada sector, explica por qué esta es una buena estrategia para una inversión inicial de $10.000.\n",
    "\n",
    "Cartera:\n",
    "{cartera}\n",
    "\n",
    "Noticias:\n",
    "{noticias}\n",
    "\n",
    "Justifica brevemente por qué cada categoría tiene la asignación que tiene.\n",
    "\"\"\")\n",
    "\n",
    "cadena_justificacion = LLMChain(llm=ollama_llm, prompt=template)\n",
    "\n",
    "output = cadena_justificacion.run(\n",
    "    cartera=cartera,\n",
    "    noticias=noticias_por_sector\n",
    ")\n"
   ]
  },
  {
   "cell_type": "code",
   "execution_count": null,
   "id": "08b820c6",
   "metadata": {},
   "outputs": [],
   "source": [
    "from langchain.prompts import PromptTemplate\n",
    "from langchain.agents import initialize_agent, Tool, AgentType\n",
    "from langchain.llms import Ollama\n",
    "from langchain_community.tools.yahoo_finance_news import YahooFinanceNewsTool\n",
    "from tavily import TavilyAPI  # Asegúrate de instalar la librería Tavily o la que uses\n",
    "import os\n",
    "os.environ[\"TAVILY_API_KEY\"] = \"\"\n",
    "\n",
    "# API Key para Tavily (o la API que utilices)\n",
    "\n",
    "# Configurar LLM de Ollama (Mistral 7B)\n",
    "llm = Ollama(model=\"mistral\")\n",
    "\n",
    "# Crear la herramienta para obtener noticias generales\n",
    "def obtener_noticias_generales():\n",
    "    tavily_client = TavilyAPI()\n",
    "\n",
    "    # Hacer una consulta general (ajusta según la API y los parámetros)\n",
    "    noticias = tavily_client.get_news(query=\"mercados financieros\")\n",
    "    return noticias['articles']\n",
    "\n",
    "# Crear herramienta personalizada para obtener noticias generales\n",
    "news_tool = Tool(\n",
    "    name=\"Noticias Generales\",\n",
    "    func=obtener_noticias_generales,\n",
    "    description=\"Obtiene noticias sobre mercados financieros, fondos y sectores de inversión\"\n",
    ")\n",
    "\n",
    "# Crear la plantilla de bienvenida\n",
    "prompt_bienvenida = PromptTemplate.from_template(\"\"\"\n",
    "    Hola, bienvenido a tu asistente financiero. Vamos a empezar con la creación de una cartera de inversión inicial.\n",
    "\n",
    "    Tu inversión inicial es de $10,000 USD. Te voy a proporcionar una distribución recomendada en los siguientes instrumentos financieros:\n",
    "\n",
    "    | Instrumento          | Descripción detallada                                                                                             | Alocación Inicial (%) |\n",
    "    |----------------------|-------------------------------------------------------------------------------------------------------------------|-----------------------|\n",
    "    | Equity Tech Fund     | Fondo de inversión compuesto por acciones de grandes empresas tecnológicas (software, hardware, nube), con alta volatilidad y crecimiento potencial. | 20%                   |\n",
    "    | GreenEnergy ETF      | Fondo cotizado en bolsa (ETF) que invierte en compañías del sector de energías renovables como solar, eólica e hidroeléctrica, con crecimiento sostenible. | 15%                   |\n",
    "    | Health Bio Stocks    | Acciones de empresas farmacéuticas y biotecnológicas con alta inversión en investigación y desarrollo, sujetas a regulaciones estrictas. | 10%                   |\n",
    "    | Global Bonds Fund    | Fondo de bonos de deuda gubernamental de distintos países, proporcionando estabilidad y bajo riesgo en comparación con otros activos. | 10%                   |\n",
    "    | CryptoIndex          | Portafolio compuesto por múltiples criptomonedas de alto capital de mercado, con alta volatilidad e influencia de noticias macroeconómicas. | 10%                   |\n",
    "    | RealEstate REIT      | Fideicomiso de inversión inmobiliaria (REIT) que proporciona exposición a propiedades comerciales y residenciales, con flujos de ingresos estables. | 10%                   |\n",
    "    | Emerging Markets Fund| Fondo de inversión que incluye activos de economías en desarrollo, con alto potencial de crecimiento pero también mayor riesgo geopolítico. | 10%                   |\n",
    "    | AI & Robotics ETF    | ETF compuesto por empresas innovadoras en inteligencia artificial, automatización y robótica, con alto potencial disruptivo. | 5%                    |\n",
    "    | Commodities Basket   | Fondo diversificado en materias primas, incluyendo metales preciosos y energía, con cobertura contra inflación y volatilidad en mercados tradicionales. | 5%                    |\n",
    "    | Cash Reserve         | Fondos en efectivo o equivalentes de alta liquidez, usados para minimizar riesgo y proporcionar flexibilidad en inversiones. | 5%                    |\n",
    "\n",
    "    A continuación, te mostraré cómo puedes acceder a noticias relevantes sobre estos fondos y otras oportunidades de inversión. ¿Te gustaría que te muestre algunas noticias relacionadas?\n",
    "\"\"\")\n",
    "\n",
    "# Crear el agente con el LLM y las herramientas\n",
    "tools = [news_tool]\n",
    "agent = initialize_agent(\n",
    "    tools=tools,\n",
    "    llm=llm,\n",
    "    agent_type=AgentType.ZERO_SHOT_REACT_DESCRIPTION,\n",
    "    verbose=True\n",
    ")\n",
    "\n",
    "# Crear el flujo de trabajo para ejecutar el agente\n",
    "def ejecutar_agente_con_grafo():\n",
    "    result = agent.run(prompt_bienvenida)\n",
    "    print(result)\n",
    "\n",
    "# Ejecutar el flujo\n",
    "ejecutar_agente_con_grafo()\n"
   ]
  },
  {
   "cell_type": "markdown",
   "id": "a76916c9",
   "metadata": {},
   "source": [
    "## newsAPI"
   ]
  },
  {
   "cell_type": "code",
   "execution_count": null,
   "id": "106cee13",
   "metadata": {},
   "outputs": [
    {
     "name": "stdout",
     "output_type": "stream",
     "text": [
      "Noticias de 'Equity Tech Fund' de la última semana (hora de Chile):\n",
      "Título: Meta and the FTC face off in court over monopoly claims\n",
      "URL: https://www.npr.org/2025/04/14/nx-s1-5358436/meta-ftc-antitrust-trial-opening-arguments\n",
      "Contenido:\n",
      "\n",
      "\n",
      "      Bobby Allyn\n",
      "    \n",
      "\n",
      "\n",
      "                A photograph taken during the World Economic Forum (WEF) annual meeting in Davos in January shows the logo of Meta, the U.S. company that owns and operates Facebook, Instagram, Threads and WhatsApp.\n",
      "                \n",
      "                    \n",
      "                    Fabrice Coffrini/AFP via Getty Images\n",
      "                    \n",
      "                \n",
      "hide caption\n",
      "\n",
      "Meta CEO Mark Zuckerberg defended his social media platform on Monday before a federal judge in the U.S. gover...\n",
      "--------------------\n",
      "Título: Poolhouse raises $34M for gamified pool from the creators of Topgolf\n",
      "URL: https://venturebeat.com/games/poolhouse-raises-34m-for-gamified-pool-from-the-creators-of-topgolf/\n",
      "No se pudo obtener el artículo: 403 Client Error: Forbidden for url: https://venturebeat.com/games/poolhouse-raises-34m-for-gamified-pool-from-the-creators-of-topgolf/\n",
      "--------------------\n",
      "Título: Is Broadcom Inc. (AVGO) the Top Tech Stock to Buy According to Billionaire Ken Fisher?\n",
      "URL: https://finance.yahoo.com/news/broadcom-inc-avgo-top-tech-134825738.html\n",
      "No se pudo obtener el artículo: 429 Client Error: Too Many Requests for url: https://finance.yahoo.com/news/broadcom-inc-avgo-top-tech-134825738.html\n",
      "--------------------\n",
      "Título: Is Salesforce Inc. (NYSE:CRM) the Best Tech Stock to Buy For Long-Term Investment?\n",
      "URL: https://finance.yahoo.com/news/salesforce-inc-nyse-crm-best-130337777.html\n",
      "No se pudo obtener el artículo: 429 Client Error: Too Many Requests for url: https://finance.yahoo.com/news/salesforce-inc-nyse-crm-best-130337777.html\n",
      "--------------------\n",
      "Título: Analyst revamps Snowflake, Salesforce stock price targets\n",
      "URL: https://www.thestreet.com/investing/stocks/analyst-revamps-snowflake-salesforce-stock-price-targets\n",
      "No se pudo obtener el artículo: 403 Client Error: Forbidden for url: https://www.thestreet.com/investing/stocks/analyst-revamps-snowflake-salesforce-stock-price-targets\n",
      "--------------------\n",
      "Título: VOO Leads With Strong $1.2 Billion Inflow; S 500 Climbs\n",
      "URL: http://www.etf.com/sections/daily-etf-flows/voo-leads-strong-12-billion-inflow-sp-500-climbs?utm_source=yahoo-financeutm_medium=rssutm_campaign=yahoo-finance-rss\n",
      "No se pudo obtener el artículo: 403 Client Error: Forbidden for url: https://www.etf.com/sections/daily-etf-flows/voo-leads-strong-12-billion-inflow-sp-500-climbs?utm_source=yahoo-financeutm_medium=rssutm_campaign=yahoo-finance-rss\n",
      "--------------------\n",
      "Título: Here’s What You Missed As The S&P 500 Nudged Higher Yesterday\n",
      "URL: https://www.forbes.com/sites/greatspeculations/2025/04/15/heres-what-you-missed-as-the-sp-500-nudged-higher-yesterday/\n",
      "Contenido:\n",
      "ByTrefis Team,\n",
      " Contributor. \n",
      "TOPSHOT - This photo taken on March 28, 2019 shows planes from various airlines in storage at a ... More 'Boneyard' facility beside the Southern California Logistics Airport in Victorville, California. (Photo by Mark RALSTON / AFP) (Photo credit should read MARK RALSTON/AFP via Getty Images)\n",
      "The S&P 500 gained nearly 1% yesterday, April 14, 2025, extending a relief rally that lifted most sectors across the board — tech, industrials, consumer, you name it. Market sen...\n",
      "--------------------\n",
      "Título: Advanced Micro Devices (AMD): Among the Top Tech Stocks to Buy According to Billionaire Ken Fisher\n",
      "URL: https://finance.yahoo.com/news/advanced-micro-devices-amd-among-214519638.html\n",
      "No se pudo obtener el artículo: 429 Client Error: Too Many Requests for url: https://finance.yahoo.com/news/advanced-micro-devices-amd-among-214519638.html\n",
      "--------------------\n",
      "Título: UnitedHealth Group Incorporated (UNH): A Bull Case Theory\n",
      "URL: https://finance.yahoo.com/news/unitedhealth-group-incorporated-unh-bull-160952983.html\n",
      "No se pudo obtener el artículo: 429 Client Error: Too Many Requests for url: https://finance.yahoo.com/news/unitedhealth-group-incorporated-unh-bull-160952983.html\n",
      "--------------------\n",
      "Título: Oracle Corporation (ORCL): Among the Best Technology Dividend Stocks to Invest in?\n",
      "URL: https://finance.yahoo.com/news/oracle-corporation-orcl-among-best-213251349.html\n",
      "No se pudo obtener el artículo: 429 Client Error: Too Many Requests for url: https://finance.yahoo.com/news/oracle-corporation-orcl-among-best-213251349.html\n",
      "--------------------\n",
      "Título: Is Roper Technologies, Inc. (ROP) the Best Technology Dividend Stock to Invest in?\n",
      "URL: https://finance.yahoo.com/news/roper-technologies-inc-rop-best-005331772.html\n",
      "No se pudo obtener el artículo: 429 Client Error: Too Many Requests for url: https://finance.yahoo.com/news/roper-technologies-inc-rop-best-005331772.html\n",
      "--------------------\n",
      "Título: Broadcom Inc. (AVGO): Among the Best Technology Dividend Stocks to Invest in?\n",
      "URL: https://finance.yahoo.com/news/broadcom-inc-avgo-among-best-132404846.html\n",
      "No se pudo obtener el artículo: 429 Client Error: Too Many Requests for url: https://finance.yahoo.com/news/broadcom-inc-avgo-among-best-132404846.html\n",
      "--------------------\n",
      "Título: Our Country’s Broadband Divide Is Not Color Blind\n",
      "URL: https://www.cnet.com/home/internet/our-countrys-broadband-divide-is-not-color-blind/\n",
      "Contenido:\n",
      "In early March, Karen Kama woke up early to hand out flyers in her neighborhood. She wanted people to know about a program at her local library in Reading, Pennsylvania, that helps people learn how to use the internet. \n",
      "Two out of every three residents in Reading are Hispanic, so Kama's flyers have one side in Spanish and one side in English. \n",
      "It was only one year ago that Kama started using the internet herself. She described for me a whole world opening up to her: using Google to translate con...\n",
      "--------------------\n",
      "Título: ASML Holding N.V. (ASML): A Bull Case Theory\n",
      "URL: https://finance.yahoo.com/news/asml-holding-n-v-asml-160744422.html\n",
      "No se pudo obtener el artículo: 429 Client Error: Too Many Requests for url: https://finance.yahoo.com/news/asml-holding-n-v-asml-160744422.html\n",
      "--------------------\n",
      "Título: MPs call for streaming levy to help UK TV industry\n",
      "URL: https://www.bbc.com/news/articles/ckg22d99v7qo\n",
      "Contenido:\n",
      "A share of the revenue streaming services make from subscription fees should be paid into a fund to support British high-end TV production, an influential group of MPs has said.\n",
      "In a new report, the Culture, Media and Sport (CMS) committee urged the government to improve support measures for producers while safeguarding the creation of distinctly British content.\n",
      "It follows an inquiry into the UK TV and film industry which examined the effects of the rise of streaming platforms like Netflix, Ama...\n",
      "--------------------\n",
      "Título: Bitcoin Flat as White House Pushes Mixed Messages on Technology Tariffs\n",
      "URL: https://www.coindesk.com/markets/2025/04/14/btc-flat-on-asia-open-as-white-house-pushes-mixed-messages-on-technology-tariffs\n",
      "Contenido:\n",
      "Bitcoin (BTC) is flat as East Asian markets open for the week, trading above $84K, as the White House presents mixed messages on semiconductor and technology component tariffs.\n",
      "Over the weekend, Commerce Secretary Howard Lutnick said that the White House’s decision to exempt items like smartphones, computers, and the semiconductors that power them from tariffs was a temporary measure.\n",
      "President Trump confirmed it later in a press briefing, stating that the tariff rate would be announced next wee...\n",
      "--------------------\n",
      "Título: How Forbes Compiled The 2025 AI 50 List\n",
      "URL: https://www.forbes.com/sites/elisabethbrier/2025/04/10/how-forbes-compiled-the-2025-ai-50-list/\n",
      "Contenido:\n",
      "ByElisabeth Brier,\n",
      " Forbes Staff. \n",
      "Forbes’ AI 50 list spotlights the most promising privately-held companies applying artificial intelligence to solve real-world challenges. Created in partnership with data partners Sequoia and Meritech Capital, the seventh annual installment reflects how companies across industries are using AI tools to streamline and even fully take over tasks previously done by humans.\n",
      "The selection process begins with both a public call for nominations and targeted outreach ...\n",
      "--------------------\n",
      "Título: Meta Platforms, Inc. (META) Is a Top 10 Tech Stock to Buy According to Billionaire Ken Fisher\n",
      "URL: https://finance.yahoo.com/news/meta-platforms-inc-meta-top-004441808.html\n",
      "No se pudo obtener el artículo: 429 Client Error: Too Many Requests for url: https://finance.yahoo.com/news/meta-platforms-inc-meta-top-004441808.html\n",
      "--------------------\n"
     ]
    }
   ],
   "source": [
    "import requests\n",
    "from datetime import datetime, timedelta\n",
    "from bs4 import BeautifulSoup\n",
    "\n",
    "# Reemplaza con tu API key\n",
    "api_key = \"\"\n",
    "base_url = \"https://newsapi.org/v2/\"\n",
    "endpoint = \"everything\"\n",
    "query = \"Equity Tech Fund\"  # Puedes cambiar esto por tus palabras clave\n",
    "page_size=20\n",
    "# Calcular la fecha de hace una semana (considerando la hora actual en Chile)\n",
    "now_cl = datetime.now()\n",
    "one_week_ago_cl = now_cl - timedelta(days=7)\n",
    "from_date = one_week_ago_cl.strftime(\"%Y-%m-%d\")\n",
    "\n",
    "url = f\"{base_url}{endpoint}?q={query}&from={from_date}&pageSize={page_size}&apiKey={api_key}\"\n",
    "\n",
    "response = requests.get(url)\n",
    "data = response.json()\n",
    "\n",
    "relevant_news = {}\n",
    "\n",
    "if response.status_code == 200:\n",
    "    articles = data.get(\"articles\")\n",
    "    if articles:\n",
    "        print(f\"Noticias de '{query}' de la última semana (hora de Chile):\")\n",
    "        for article in articles:\n",
    "            article_url = article.get(\"url\")\n",
    "            print(f\"Título: {article.get('title')}\")\n",
    "            print(f\"URL: {article_url}\")\n",
    "\n",
    "            # Intentar obtener el contenido del artículo con varios tags\n",
    "            content = \"\"\n",
    "            try:\n",
    "                article_response = requests.get(article_url)\n",
    "                article_response.raise_for_status()\n",
    "                soup = BeautifulSoup(article_response.text, 'html.parser')\n",
    "\n",
    "                possible_containers = [\n",
    "                    'article',\n",
    "                    'div.article-body',\n",
    "                    'div.main',\n",
    "                    'div.content',\n",
    "                    'div.story',\n",
    "                    'div[role=\"main\"]',  # Buscar divs con el rol \"main\"\n",
    "                    'section.article-content',\n",
    "                    'section.main-content'\n",
    "                ]\n",
    "\n",
    "                for selector in possible_containers:\n",
    "                    container = soup.select_one(selector)\n",
    "                    if container:\n",
    "                        content = '\\n'.join([p.get_text() for p in container.find_all('p')])\n",
    "                        if content.strip():  # Si encontramos contenido, detenemos la búsqueda\n",
    "                            break\n",
    "\n",
    "                if not content.strip():\n",
    "                    # Si no se encontró un contenedor específico, extraer texto de todos los párrafos\n",
    "                    content = '\\n'.join([p.get_text() for p in soup.find_all('p')])\n",
    "\n",
    "                print(f\"Contenido:\\n{content[:500]}...\" if len(content) > 500 else f\"Contenido:\\n{content}\") # Mostrar solo los primeros 500 caracteres para no saturar la salida\n",
    "\n",
    "            except requests.exceptions.RequestException as e:\n",
    "                print(f\"No se pudo obtener el artículo: {e}\")\n",
    "                content = None  # No se pudo obtener el contenido\n",
    "            except AttributeError:\n",
    "                print(\"No se pudo extraer el contenido del artículo (estructura HTML inesperada).\")\n",
    "                content = None\n",
    "\n",
    "            if content:\n",
    "                # Guardar el artículo en el diccionario solo si se obtuvo contenido\n",
    "                relevant_news[article_url] = {\n",
    "                    \"title\": article.get(\"title\"),\n",
    "                    \"description\": article.get(\"description\"),\n",
    "                    \"content\": content,\n",
    "                    \"source\": article.get(\"source\", {}).get(\"name\", \"Desconocido\")\n",
    "                }\n",
    "            if len(relevant_news) >= 10:\n",
    "                break\n",
    "            print(\"-\" * 20)\n",
    "\n",
    "    else:\n",
    "        print(\"No se encontraron noticias para los criterios especificados en la última semana.\")\n",
    "        content = None  # No se encontraron artículos\n",
    "else:\n",
    "    print(f\"Error al hacer la solicitud: {response.status_code}\")\n",
    "    print(f\"Mensaje de error: {data.get('message')}\")"
   ]
  },
  {
   "cell_type": "code",
   "execution_count": null,
   "id": "78a95db2",
   "metadata": {},
   "outputs": [],
   "source": []
  }
 ],
 "metadata": {
  "kernelspec": {
   "display_name": ".venv",
   "language": "python",
   "name": "python3"
  },
  "language_info": {
   "codemirror_mode": {
    "name": "ipython",
    "version": 3
   },
   "file_extension": ".py",
   "mimetype": "text/x-python",
   "name": "python",
   "nbconvert_exporter": "python",
   "pygments_lexer": "ipython3",
   "version": "3.10.11"
  }
 },
 "nbformat": 4,
 "nbformat_minor": 5
}
